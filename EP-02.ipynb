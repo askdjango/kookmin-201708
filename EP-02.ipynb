{
 "cells": [
  {
   "cell_type": "markdown",
   "metadata": {
    "collapsed": true
   },
   "source": [
    "## 들여쓰기"
   ]
  },
  {
   "cell_type": "code",
   "execution_count": 1,
   "metadata": {},
   "outputs": [
    {
     "name": "stdout",
     "output_type": "stream",
     "text": [
      "0\n",
      "0\n",
      "0\n",
      "1\n",
      "1\n",
      "1\n",
      "2\n",
      "4\n",
      "8\n",
      "3\n",
      "9\n",
      "27\n",
      "4\n",
      "16\n",
      "64\n",
      "5\n",
      "25\n",
      "125\n",
      "6\n",
      "36\n",
      "216\n",
      "7\n",
      "49\n",
      "343\n",
      "8\n",
      "64\n",
      "512\n",
      "9\n",
      "81\n",
      "729\n"
     ]
    }
   ],
   "source": [
    "for i in range(10):\n",
    "    print(i)\n",
    "    print(i**2)\n",
    "    print(i**3)"
   ]
  },
  {
   "cell_type": "markdown",
   "metadata": {},
   "source": [
    "## 주석"
   ]
  },
  {
   "cell_type": "code",
   "execution_count": 2,
   "metadata": {},
   "outputs": [
    {
     "name": "stdout",
     "output_type": "stream",
     "text": [
      "0\n",
      "0\n",
      "1\n",
      "1\n",
      "2\n",
      "4\n"
     ]
    }
   ],
   "source": [
    "# 0이상 3미만의 값의 범위에서\n",
    "# 순회를 돌며, 해당 값과 제곱값을 출력합니다.\n",
    "\n",
    "for i in range(3):\n",
    "    print(i)\n",
    "    print(i**2)  # i의 제곱값을 출력합니다."
   ]
  },
  {
   "cell_type": "code",
   "execution_count": 3,
   "metadata": {},
   "outputs": [
    {
     "data": {
      "text/plain": [
       "'0이상 3미만의 값을 범위에서'"
      ]
     },
     "execution_count": 3,
     "metadata": {},
     "output_type": "execute_result"
    }
   ],
   "source": [
    "'0이상 3미만의 값을 범위에서'"
   ]
  },
  {
   "cell_type": "code",
   "execution_count": 4,
   "metadata": {},
   "outputs": [
    {
     "name": "stdout",
     "output_type": "stream",
     "text": [
      "0\n",
      "0\n",
      "1\n",
      "1\n",
      "2\n",
      "4\n"
     ]
    }
   ],
   "source": [
    "'''\n",
    "0이상 3미만의 값의 범위에서\n",
    "순회를 돌며, 해당 값과 제곱값을 출력합니다.\n",
    "'''\n",
    "\n",
    "for i in range(3):\n",
    "    print(i)\n",
    "    print(i**2)  # i의 제곱값을 출력합니다."
   ]
  },
  {
   "cell_type": "code",
   "execution_count": 12,
   "metadata": {
    "collapsed": true
   },
   "outputs": [],
   "source": [
    "def mysum(x, y):\n",
    "    '''\n",
    "    2개의 인자를 받아서, 더한 값을 리턴해주는 함수\n",
    "    '''\n",
    "    return x + y"
   ]
  },
  {
   "cell_type": "code",
   "execution_count": 13,
   "metadata": {},
   "outputs": [
    {
     "data": {
      "text/plain": [
       "'\\n    2개의 인자를 받아서, 더한 값을 리턴해주는 함수\\n    '"
      ]
     },
     "execution_count": 13,
     "metadata": {},
     "output_type": "execute_result"
    }
   ],
   "source": [
    "mysum.__doc__"
   ]
  },
  {
   "cell_type": "code",
   "execution_count": 14,
   "metadata": {},
   "outputs": [
    {
     "data": {
      "text/plain": [
       "<function __main__.mysum>"
      ]
     },
     "execution_count": 14,
     "metadata": {},
     "output_type": "execute_result"
    }
   ],
   "source": [
    "mysum  # ipython notebook 에서만 지원해주는 기능"
   ]
  },
  {
   "cell_type": "markdown",
   "metadata": {},
   "source": [
    "### 실습"
   ]
  },
  {
   "cell_type": "code",
   "execution_count": 15,
   "metadata": {},
   "outputs": [],
   "source": [
    "mydict = {\n",
    "    'a': 1,\n",
    "    'b': 2,\n",
    "#    'c': 3,\n",
    "#    'd': 4,\n",
    "}"
   ]
  },
  {
   "cell_type": "code",
   "execution_count": 16,
   "metadata": {},
   "outputs": [
    {
     "data": {
      "text/plain": [
       "{'a': 1, 'b': 2}"
      ]
     },
     "execution_count": 16,
     "metadata": {},
     "output_type": "execute_result"
    }
   ],
   "source": [
    "mydict"
   ]
  },
  {
   "cell_type": "markdown",
   "metadata": {},
   "source": [
    "## 조건문"
   ]
  },
  {
   "cell_type": "code",
   "execution_count": 25,
   "metadata": {},
   "outputs": [
    {
     "name": "stdout",
     "output_type": "stream",
     "text": [
      "Enter number : 123\n"
     ]
    }
   ],
   "source": [
    "number = input(\"Enter number : \")"
   ]
  },
  {
   "cell_type": "code",
   "execution_count": 26,
   "metadata": {},
   "outputs": [
    {
     "data": {
      "text/plain": [
       "'123'"
      ]
     },
     "execution_count": 26,
     "metadata": {},
     "output_type": "execute_result"
    }
   ],
   "source": [
    "number"
   ]
  },
  {
   "cell_type": "code",
   "execution_count": 27,
   "metadata": {},
   "outputs": [
    {
     "data": {
      "text/plain": [
       "51"
      ]
     },
     "execution_count": 27,
     "metadata": {},
     "output_type": "execute_result"
    }
   ],
   "source": [
    "ord('3')"
   ]
  },
  {
   "cell_type": "code",
   "execution_count": 28,
   "metadata": {},
   "outputs": [
    {
     "data": {
      "text/plain": [
       "49"
      ]
     },
     "execution_count": 28,
     "metadata": {},
     "output_type": "execute_result"
    }
   ],
   "source": [
    "ord('1')"
   ]
  },
  {
   "cell_type": "code",
   "execution_count": 29,
   "metadata": {},
   "outputs": [
    {
     "data": {
      "text/plain": [
       "False"
      ]
     },
     "execution_count": 29,
     "metadata": {},
     "output_type": "execute_result"
    }
   ],
   "source": [
    "int('39') > 100"
   ]
  },
  {
   "cell_type": "code",
   "execution_count": 30,
   "metadata": {},
   "outputs": [
    {
     "name": "stdout",
     "output_type": "stream",
     "text": [
      "숫자를 입력해주세요. : 123\n"
     ]
    }
   ],
   "source": [
    "number = input(\"숫자를 입력해주세요. : \")"
   ]
  },
  {
   "cell_type": "code",
   "execution_count": 31,
   "metadata": {},
   "outputs": [
    {
     "data": {
      "text/plain": [
       "'123'"
      ]
     },
     "execution_count": 31,
     "metadata": {},
     "output_type": "execute_result"
    }
   ],
   "source": [
    "number"
   ]
  },
  {
   "cell_type": "code",
   "execution_count": 32,
   "metadata": {},
   "outputs": [
    {
     "data": {
      "text/plain": [
       "123"
      ]
     },
     "execution_count": 32,
     "metadata": {},
     "output_type": "execute_result"
    }
   ],
   "source": [
    "int(number)"
   ]
  },
  {
   "cell_type": "code",
   "execution_count": 34,
   "metadata": {},
   "outputs": [
    {
     "name": "stdout",
     "output_type": "stream",
     "text": [
      "숫자를 입력해주세요. : 123\n"
     ]
    }
   ],
   "source": [
    "number = int(input(\"숫자를 입력해주세요. : \"))"
   ]
  },
  {
   "cell_type": "code",
   "execution_count": 35,
   "metadata": {},
   "outputs": [
    {
     "data": {
      "text/plain": [
       "123"
      ]
     },
     "execution_count": 35,
     "metadata": {},
     "output_type": "execute_result"
    }
   ],
   "source": [
    "number"
   ]
  },
  {
   "cell_type": "code",
   "execution_count": 36,
   "metadata": {},
   "outputs": [
    {
     "name": "stdout",
     "output_type": "stream",
     "text": [
      "숫자를 입력해주세요 : 123\n",
      "3자리 이상의 숫자\n"
     ]
    }
   ],
   "source": [
    "number = int(input(\"숫자를 입력해주세요 : \"))\n",
    "\n",
    "if number >= 100:\n",
    "    print(\"3자리 이상의 숫자\")\n",
    "elif number >= 10:\n",
    "    print(\"2자리 숫자\")\n",
    "elif number >= 0:\n",
    "    print(\"1자리 숫자\")\n",
    "else:\n",
    "    print(\"음수\")"
   ]
  },
  {
   "cell_type": "code",
   "execution_count": 38,
   "metadata": {},
   "outputs": [
    {
     "name": "stdout",
     "output_type": "stream",
     "text": [
      "숫자를 입력해주세요 : 11\n",
      "홀수\n"
     ]
    }
   ],
   "source": [
    "# 홀/짝 여부\n",
    "\n",
    "number = int(input(\"숫자를 입력해주세요 : \"))\n",
    "\n",
    "if number % 2 == 0:\n",
    "    print(\"짝수\")\n",
    "else:\n",
    "    print(\"홀수\")"
   ]
  },
  {
   "cell_type": "code",
   "execution_count": 39,
   "metadata": {},
   "outputs": [
    {
     "name": "stdout",
     "output_type": "stream",
     "text": [
      "True 판정\n"
     ]
    }
   ],
   "source": [
    "if \"hello\":\n",
    "    print(\"True 판정\")\n",
    "else:\n",
    "    print(\"False 판정\")"
   ]
  },
  {
   "cell_type": "code",
   "execution_count": 40,
   "metadata": {},
   "outputs": [
    {
     "data": {
      "text/plain": [
       "True"
      ]
     },
     "execution_count": 40,
     "metadata": {},
     "output_type": "execute_result"
    }
   ],
   "source": [
    "bool('hello')"
   ]
  },
  {
   "cell_type": "code",
   "execution_count": 41,
   "metadata": {},
   "outputs": [
    {
     "data": {
      "text/plain": [
       "False"
      ]
     },
     "execution_count": 41,
     "metadata": {},
     "output_type": "execute_result"
    }
   ],
   "source": [
    "bool(0)"
   ]
  },
  {
   "cell_type": "code",
   "execution_count": 42,
   "metadata": {},
   "outputs": [
    {
     "data": {
      "text/plain": [
       "True"
      ]
     },
     "execution_count": 42,
     "metadata": {},
     "output_type": "execute_result"
    }
   ],
   "source": [
    "bool(1)"
   ]
  },
  {
   "cell_type": "code",
   "execution_count": 43,
   "metadata": {},
   "outputs": [
    {
     "data": {
      "text/plain": [
       "False"
      ]
     },
     "execution_count": 43,
     "metadata": {},
     "output_type": "execute_result"
    }
   ],
   "source": [
    "bool('')"
   ]
  },
  {
   "cell_type": "code",
   "execution_count": 44,
   "metadata": {},
   "outputs": [
    {
     "data": {
      "text/plain": [
       "True"
      ]
     },
     "execution_count": 44,
     "metadata": {},
     "output_type": "execute_result"
    }
   ],
   "source": [
    "bool(' ')"
   ]
  },
  {
   "cell_type": "code",
   "execution_count": 45,
   "metadata": {},
   "outputs": [
    {
     "data": {
      "text/plain": [
       "False"
      ]
     },
     "execution_count": 45,
     "metadata": {},
     "output_type": "execute_result"
    }
   ],
   "source": [
    "bool([])"
   ]
  },
  {
   "cell_type": "code",
   "execution_count": 46,
   "metadata": {},
   "outputs": [
    {
     "data": {
      "text/plain": [
       "True"
      ]
     },
     "execution_count": 46,
     "metadata": {},
     "output_type": "execute_result"
    }
   ],
   "source": [
    "bool([''])"
   ]
  },
  {
   "cell_type": "markdown",
   "metadata": {},
   "source": [
    "## for 반복문"
   ]
  },
  {
   "cell_type": "markdown",
   "metadata": {},
   "source": [
    "```java\n",
    "/* java */\n",
    "for(int i=0; i<10; i++) {\n",
    "    System.out.println(i);\n",
    "}\n",
    "```"
   ]
  },
  {
   "cell_type": "markdown",
   "metadata": {},
   "source": [
    "```javascript\n",
    "/* javascript */\n",
    "for(var i=0; i<10; i++) {\n",
    "    console.debug(i);\n",
    "}\n",
    "```"
   ]
  },
  {
   "cell_type": "code",
   "execution_count": 49,
   "metadata": {},
   "outputs": [
    {
     "name": "stdout",
     "output_type": "stream",
     "text": [
      "1\n",
      "1\n",
      "2\n",
      "4\n",
      "3\n",
      "9\n",
      "4\n",
      "16\n",
      "5\n",
      "25\n"
     ]
    }
   ],
   "source": [
    "for i in [1, 2, 3, 4, 5]:\n",
    "    print(i)\n",
    "    print(i**2)"
   ]
  },
  {
   "cell_type": "code",
   "execution_count": 50,
   "metadata": {},
   "outputs": [
    {
     "data": {
      "text/plain": [
       "range(1, 10, 2)"
      ]
     },
     "execution_count": 50,
     "metadata": {},
     "output_type": "execute_result"
    }
   ],
   "source": [
    "range(10)       # 0이상 10미만의 값 목록 (1씩 증가)\n",
    "range(1, 10)    # 1이상 10미만의 값 목록 (1씩 증가)\n",
    "range(1, 10, 2) # 1이상 10미만의 값 목록 (2씩 증가)"
   ]
  },
  {
   "cell_type": "code",
   "execution_count": 51,
   "metadata": {},
   "outputs": [
    {
     "name": "stdout",
     "output_type": "stream",
     "text": [
      "1\n",
      "3\n",
      "5\n",
      "7\n",
      "9\n"
     ]
    }
   ],
   "source": [
    "for i in range(1, 10, 2):\n",
    "    print(i)"
   ]
  },
  {
   "cell_type": "code",
   "execution_count": 52,
   "metadata": {},
   "outputs": [
    {
     "name": "stdout",
     "output_type": "stream",
     "text": [
      "1\n",
      "2\n",
      "3\n"
     ]
    }
   ],
   "source": [
    "for i in (1, 2, 3):  # tuple\n",
    "    print(i)"
   ]
  },
  {
   "cell_type": "code",
   "execution_count": 53,
   "metadata": {},
   "outputs": [
    {
     "name": "stdout",
     "output_type": "stream",
     "text": [
      "1\n",
      "2\n",
      "3\n",
      "4\n",
      "5\n"
     ]
    }
   ],
   "source": [
    "for i in {1, 2, 3, 4, 5, 4, 3, 2, 1, 2, 3}:  # set (집합)\n",
    "    print(i)"
   ]
  },
  {
   "cell_type": "code",
   "execution_count": 54,
   "metadata": {},
   "outputs": [
    {
     "name": "stdout",
     "output_type": "stream",
     "text": [
      "a\n",
      "b\n",
      "c\n"
     ]
    }
   ],
   "source": [
    "for key in {'a': 1, 'b': 2, 'c': 3}:  # 사전의 키 목록을 순회\n",
    "    print(key)"
   ]
  },
  {
   "cell_type": "code",
   "execution_count": 55,
   "metadata": {},
   "outputs": [
    {
     "name": "stdout",
     "output_type": "stream",
     "text": [
      "1\n",
      "2\n",
      "3\n"
     ]
    }
   ],
   "source": [
    "for value in {'a': 1, 'b': 2, 'c': 3}.values():  # 사전의 값 목록을 순회\n",
    "    print(value)"
   ]
  },
  {
   "cell_type": "code",
   "execution_count": 56,
   "metadata": {},
   "outputs": [
    {
     "name": "stdout",
     "output_type": "stream",
     "text": [
      "a 1\n",
      "b 2\n",
      "c 3\n"
     ]
    }
   ],
   "source": [
    "for key, value in {'a': 1, 'b': 2, 'c': 3}.items():  # 사전의 키/값 목록을 순회\n",
    "    print(key, value)"
   ]
  },
  {
   "cell_type": "markdown",
   "metadata": {},
   "source": [
    "## 퀴즈) 아래 list/dict을 순회하며, 괄호가 보이지 않게, 잘 정리해서 출력해주세요."
   ]
  },
  {
   "cell_type": "code",
   "execution_count": 58,
   "metadata": {
    "collapsed": true
   },
   "outputs": [],
   "source": [
    "'''\n",
    "보내실 이메일 주소 : me@nomade.kr\n",
    "\n",
    "이메일 제목 : [국민대학교 파이썬] 전공, 이름\n",
    "'''\n",
    "\n",
    "학교성적 = [\n",
    "    {'이름': '철수', '성적': {'국어': 100, '수학': 90, '영어': 80}},\n",
    "    {'이름': '영희', '성적': {'국어': 80, '수학': 95, '영어': 85}},\n",
    "    {'이름': '스티브', '성적': {'국어': 70, '수학': 93, '영어': 82}},\n",
    "]"
   ]
  },
  {
   "cell_type": "markdown",
   "metadata": {},
   "source": [
    "```\n",
    "철수 : 국어 100, 수학 90, 영어 80\n",
    "영희 : 국어 80, 수학 95, 영어 85\n",
    "스티브 : 국어 70, 수학 93, 영어 82\n",
    "```"
   ]
  },
  {
   "cell_type": "code",
   "execution_count": 67,
   "metadata": {},
   "outputs": [
    {
     "name": "stdout",
     "output_type": "stream",
     "text": [
      "철수: 국어 100, 수학 90, 영어 80\n",
      "영희: 국어 80, 수학 95, 영어 85\n",
      "스티브: 국어 70, 수학 93, 영어 82\n"
     ]
    }
   ],
   "source": [
    "for 학생 in 학교성적:\n",
    "    print('{}: 국어 {}, 수학 {}, 영어 {}'.format(학생['이름'],\n",
    "                    학생['성적']['국어'], 학생['성적']['수학'],\n",
    "                    학생['성적']['영어']))"
   ]
  },
  {
   "cell_type": "code",
   "execution_count": 70,
   "metadata": {},
   "outputs": [
    {
     "name": "stdout",
     "output_type": "stream",
     "text": [
      "철수: 국어 100, 수학 90, 영어 80\n",
      "영희: 국어 80, 수학 95, 영어 85\n",
      "스티브: 국어 70, 수학 93, 영어 82\n"
     ]
    }
   ],
   "source": [
    "for 학생 in 학교성적:\n",
    "    row = [학생['이름'], 학생['성적']['국어'],\n",
    "           학생['성적']['수학'], 학생['성적']['영어']]\n",
    "    print('{}: 국어 {}, 수학 {}, 영어 {}'.format(row[0], row[1], row[2], row[3]))"
   ]
  },
  {
   "cell_type": "code",
   "execution_count": 72,
   "metadata": {},
   "outputs": [
    {
     "name": "stdout",
     "output_type": "stream",
     "text": [
      "철수: 국어 100, 수학 90, 영어 80\n",
      "영희: 국어 80, 수학 95, 영어 85\n",
      "스티브: 국어 70, 수학 93, 영어 82\n"
     ]
    }
   ],
   "source": [
    "for 학생 in 학교성적:\n",
    "    row = [학생['이름'], 학생['성적']['국어'],\n",
    "           학생['성적']['수학'], 학생['성적']['영어']]\n",
    "    print('{}: 국어 {}, 수학 {}, 영어 {}'.format(*row))  # list/tuple unpacking"
   ]
  },
  {
   "cell_type": "code",
   "execution_count": 73,
   "metadata": {},
   "outputs": [
    {
     "name": "stdout",
     "output_type": "stream",
     "text": [
      "철수: 국어 100, 수학 90, 영어 80\n",
      "영희: 국어 80, 수학 95, 영어 85\n",
      "스티브: 국어 70, 수학 93, 영어 82\n"
     ]
    }
   ],
   "source": [
    "for 학생 in 학교성적:\n",
    "    print('{}: 국어 {국어}, 수학 {수학}, 영어 {영어}'.format(학생['이름'], **학생['성적']))  # dict unpacking"
   ]
  },
  {
   "cell_type": "markdown",
   "metadata": {},
   "source": [
    "## 퀴즈"
   ]
  },
  {
   "cell_type": "code",
   "execution_count": 83,
   "metadata": {},
   "outputs": [],
   "source": [
    "import random\n",
    "\n",
    "numbers = []\n",
    "\n",
    "for i in range(100):\n",
    "    value = random.randint(1, 10)  # 1이상 10이하의 랜덤수\n",
    "    numbers.append(value)\n",
    "\n",
    "# numbers"
   ]
  },
  {
   "cell_type": "code",
   "execution_count": 89,
   "metadata": {},
   "outputs": [
    {
     "name": "stdout",
     "output_type": "stream",
     "text": [
      "44\n"
     ]
    }
   ],
   "source": [
    "# numbers 리스트에서 짝수의 갯수를 세어보세요.\n",
    "count = 0\n",
    "\n",
    "for number in numbers:\n",
    "    if number % 2 == 0:\n",
    "        # count = count + 1\n",
    "        count += 1\n",
    "\n",
    "print(count)\n",
    "        \n"
   ]
  },
  {
   "cell_type": "markdown",
   "metadata": {},
   "source": [
    "## in 멤버쉽"
   ]
  },
  {
   "cell_type": "code",
   "execution_count": 91,
   "metadata": {},
   "outputs": [
    {
     "data": {
      "text/plain": [
       "True"
      ]
     },
     "execution_count": 91,
     "metadata": {},
     "output_type": "execute_result"
    }
   ],
   "source": [
    "'tom' in ['tom', 'steve', 'john']"
   ]
  },
  {
   "cell_type": "code",
   "execution_count": 92,
   "metadata": {},
   "outputs": [
    {
     "data": {
      "text/plain": [
       "False"
      ]
     },
     "execution_count": 92,
     "metadata": {},
     "output_type": "execute_result"
    }
   ],
   "source": [
    "'Tom' in ['tom', 'steve', 'john']"
   ]
  },
  {
   "cell_type": "code",
   "execution_count": 93,
   "metadata": {},
   "outputs": [
    {
     "data": {
      "text/plain": [
       "False"
      ]
     },
     "execution_count": 93,
     "metadata": {},
     "output_type": "execute_result"
    }
   ],
   "source": [
    "'Tom' in ('tom', 'steve', 'john')"
   ]
  },
  {
   "cell_type": "code",
   "execution_count": 94,
   "metadata": {},
   "outputs": [
    {
     "data": {
      "text/plain": [
       "False"
      ]
     },
     "execution_count": 94,
     "metadata": {},
     "output_type": "execute_result"
    }
   ],
   "source": [
    "'Tom' in {'tom', 'steve', 'john'}"
   ]
  },
  {
   "cell_type": "code",
   "execution_count": 95,
   "metadata": {},
   "outputs": [
    {
     "data": {
      "text/plain": [
       "True"
      ]
     },
     "execution_count": 95,
     "metadata": {},
     "output_type": "execute_result"
    }
   ],
   "source": [
    "# key값에 대한 멤버쉽 테스트\n",
    "'국어' in {'국어': 60, '수학': 80, '영어': 100}"
   ]
  },
  {
   "cell_type": "code",
   "execution_count": 96,
   "metadata": {},
   "outputs": [
    {
     "data": {
      "text/plain": [
       "False"
      ]
     },
     "execution_count": 96,
     "metadata": {},
     "output_type": "execute_result"
    }
   ],
   "source": [
    "'과학' in {'국어': 60, '수학': 80, '영어': 100}"
   ]
  },
  {
   "cell_type": "code",
   "execution_count": 97,
   "metadata": {},
   "outputs": [
    {
     "data": {
      "text/plain": [
       "False"
      ]
     },
     "execution_count": 97,
     "metadata": {},
     "output_type": "execute_result"
    }
   ],
   "source": [
    "60 in {'국어': 60, '수학': 80, '영어': 100}"
   ]
  },
  {
   "cell_type": "markdown",
   "metadata": {},
   "source": [
    "## 퀴즈"
   ]
  },
  {
   "cell_type": "code",
   "execution_count": 87,
   "metadata": {
    "collapsed": true
   },
   "outputs": [],
   "source": [
    "가사 = '''\n",
    "너와 나의 입술이 점점 \n",
    "느껴지는 이 순간 속에 뜨거운 공기 \n",
    "온몸에 전율이 와 \n",
    "이제 너와 내가 써 내릴 Story \n",
    "I don't know why \n",
    "나도 모르게 \n",
    "더 빠져들어가 \n",
    "숨 막히게 Baby \n",
    "I don't know why \n",
    "지금 이 순간 \n",
    "멈출 수 없는 기분 No No No No \n",
    "Make me feel so high \n",
    "'''"
   ]
  },
  {
   "cell_type": "code",
   "execution_count": 88,
   "metadata": {},
   "outputs": [
    {
     "data": {
      "text/plain": [
       "['너와',\n",
       " '나의',\n",
       " '입술이',\n",
       " '점점',\n",
       " '느껴지는',\n",
       " '이',\n",
       " '순간',\n",
       " '속에',\n",
       " '뜨거운',\n",
       " '공기',\n",
       " '온몸에',\n",
       " '전율이',\n",
       " '와',\n",
       " '이제',\n",
       " '너와',\n",
       " '내가',\n",
       " '써',\n",
       " '내릴',\n",
       " 'Story',\n",
       " 'I',\n",
       " \"don't\",\n",
       " 'know',\n",
       " 'why',\n",
       " '나도',\n",
       " '모르게',\n",
       " '더',\n",
       " '빠져들어가',\n",
       " '숨',\n",
       " '막히게',\n",
       " 'Baby',\n",
       " 'I',\n",
       " \"don't\",\n",
       " 'know',\n",
       " 'why',\n",
       " '지금',\n",
       " '이',\n",
       " '순간',\n",
       " '멈출',\n",
       " '수',\n",
       " '없는',\n",
       " '기분',\n",
       " 'No',\n",
       " 'No',\n",
       " 'No',\n",
       " 'No',\n",
       " 'Make',\n",
       " 'me',\n",
       " 'feel',\n",
       " 'so',\n",
       " 'high']"
      ]
     },
     "execution_count": 88,
     "metadata": {},
     "output_type": "execute_result"
    }
   ],
   "source": [
    "가사.split()"
   ]
  },
  {
   "cell_type": "code",
   "execution_count": null,
   "metadata": {
    "collapsed": true
   },
   "outputs": [],
   "source": [
    "d = {}\n",
    "d['이름'] = '철수'  #  {'이름': '철수'}\n",
    "d['나이'] = 10     #  {'이름': '철수', '나이': 10}\n",
    "d['이름'] = '영희'  #  {'이름': '영희', '나이': 10}\n",
    "\n",
    "names = []\n",
    "names.append(1)\n",
    "names.append(2)  # [1, 2]"
   ]
  },
  {
   "cell_type": "code",
   "execution_count": 105,
   "metadata": {},
   "outputs": [
    {
     "data": {
      "text/plain": [
       "{'Baby': 1,\n",
       " 'I': 2,\n",
       " 'Make': 1,\n",
       " 'No': 4,\n",
       " 'Story': 1,\n",
       " \"don't\": 2,\n",
       " 'feel': 1,\n",
       " 'high': 1,\n",
       " 'know': 2,\n",
       " 'me': 1,\n",
       " 'so': 1,\n",
       " 'why': 2,\n",
       " '공기': 1,\n",
       " '기분': 1,\n",
       " '나도': 1,\n",
       " '나의': 1,\n",
       " '내가': 1,\n",
       " '내릴': 1,\n",
       " '너와': 2,\n",
       " '느껴지는': 1,\n",
       " '더': 1,\n",
       " '뜨거운': 1,\n",
       " '막히게': 1,\n",
       " '멈출': 1,\n",
       " '모르게': 1,\n",
       " '빠져들어가': 1,\n",
       " '속에': 1,\n",
       " '수': 1,\n",
       " '순간': 2,\n",
       " '숨': 1,\n",
       " '써': 1,\n",
       " '없는': 1,\n",
       " '온몸에': 1,\n",
       " '와': 1,\n",
       " '이': 2,\n",
       " '이제': 1,\n",
       " '입술이': 1,\n",
       " '전율이': 1,\n",
       " '점점': 1,\n",
       " '지금': 1}"
      ]
     },
     "execution_count": 105,
     "metadata": {},
     "output_type": "execute_result"
    }
   ],
   "source": [
    "# 각 단어의 노출횟수를 counter 사전에 저장해보세요.\n",
    "\n",
    "# Hint : 사전에 대한 \"in 멤버쉽\" 테스트\n",
    "\n",
    "counter = {} # Key: 단어, Value: 횟수\n",
    "\n",
    "for 단어 in 가사.split():\n",
    "    if 단어 in counter:\n",
    "#         counter[단어] = counter[단어] + 1\n",
    "        counter[단어] += 1\n",
    "    else:\n",
    "        counter[단어] = 1\n",
    "\n",
    "#     print(단어)\n",
    "\n",
    "counter"
   ]
  },
  {
   "cell_type": "code",
   "execution_count": 106,
   "metadata": {
    "collapsed": true
   },
   "outputs": [],
   "source": [
    "from collections import Counter"
   ]
  },
  {
   "cell_type": "code",
   "execution_count": 107,
   "metadata": {},
   "outputs": [
    {
     "data": {
      "text/plain": [
       "Counter({'Baby': 1,\n",
       "         'I': 2,\n",
       "         'Make': 1,\n",
       "         'No': 4,\n",
       "         'Story': 1,\n",
       "         \"don't\": 2,\n",
       "         'feel': 1,\n",
       "         'high': 1,\n",
       "         'know': 2,\n",
       "         'me': 1,\n",
       "         'so': 1,\n",
       "         'why': 2,\n",
       "         '공기': 1,\n",
       "         '기분': 1,\n",
       "         '나도': 1,\n",
       "         '나의': 1,\n",
       "         '내가': 1,\n",
       "         '내릴': 1,\n",
       "         '너와': 2,\n",
       "         '느껴지는': 1,\n",
       "         '더': 1,\n",
       "         '뜨거운': 1,\n",
       "         '막히게': 1,\n",
       "         '멈출': 1,\n",
       "         '모르게': 1,\n",
       "         '빠져들어가': 1,\n",
       "         '속에': 1,\n",
       "         '수': 1,\n",
       "         '순간': 2,\n",
       "         '숨': 1,\n",
       "         '써': 1,\n",
       "         '없는': 1,\n",
       "         '온몸에': 1,\n",
       "         '와': 1,\n",
       "         '이': 2,\n",
       "         '이제': 1,\n",
       "         '입술이': 1,\n",
       "         '전율이': 1,\n",
       "         '점점': 1,\n",
       "         '지금': 1})"
      ]
     },
     "execution_count": 107,
     "metadata": {},
     "output_type": "execute_result"
    }
   ],
   "source": [
    "Counter(가사.split())"
   ]
  },
  {
   "cell_type": "markdown",
   "metadata": {},
   "source": [
    "### 구구단"
   ]
  },
  {
   "cell_type": "code",
   "execution_count": 115,
   "metadata": {},
   "outputs": [
    {
     "name": "stdout",
     "output_type": "stream",
     "text": [
      "19 * 1 = 19\n",
      "19 * 2 = 38\n",
      "19 * 3 = 57\n",
      "19 * 4 = 76\n",
      "19 * 5 = 95\n",
      "19 * 6 = 114\n"
     ]
    }
   ],
   "source": [
    "number = 19\n",
    "\n",
    "for i in range(1, 10):\n",
    "    print('{} * {} = {}'.format(number, i, number*i))\n",
    "    if i > 5:\n",
    "        break"
   ]
  },
  {
   "cell_type": "code",
   "execution_count": 118,
   "metadata": {},
   "outputs": [
    {
     "name": "stdout",
     "output_type": "stream",
     "text": [
      "### 2단 ###\n",
      "2 * 1 = 2\n",
      "2 * 2 = 4\n",
      "2 * 3 = 6\n",
      "2 * 4 = 8\n",
      "2 * 5 = 10\n",
      "2 * 6 = 12\n",
      "2 * 7 = 14\n",
      "2 * 8 = 16\n",
      "2 * 9 = 18\n",
      "\n",
      "### 3단 ###\n",
      "3 * 1 = 3\n",
      "3 * 2 = 6\n",
      "3 * 3 = 9\n",
      "3 * 4 = 12\n",
      "3 * 5 = 15\n",
      "3 * 6 = 18\n",
      "3 * 7 = 21\n",
      "3 * 8 = 24\n",
      "3 * 9 = 27\n",
      "\n",
      "### 4단 ###\n",
      "4 * 1 = 4\n",
      "4 * 2 = 8\n",
      "4 * 3 = 12\n",
      "4 * 4 = 16\n",
      "4 * 5 = 20\n",
      "4 * 6 = 24\n",
      "4 * 7 = 28\n",
      "4 * 8 = 32\n",
      "4 * 9 = 36\n",
      "\n",
      "### 5단 ###\n",
      "5 * 1 = 5\n",
      "5 * 2 = 10\n",
      "5 * 3 = 15\n",
      "5 * 4 = 20\n",
      "5 * 5 = 25\n",
      "5 * 6 = 30\n",
      "5 * 7 = 35\n",
      "5 * 8 = 40\n",
      "5 * 9 = 45\n",
      "\n",
      "### 6단 ###\n",
      "6 * 1 = 6\n",
      "6 * 2 = 12\n",
      "6 * 3 = 18\n",
      "6 * 4 = 24\n",
      "6 * 5 = 30\n",
      "6 * 6 = 36\n",
      "6 * 7 = 42\n",
      "6 * 8 = 48\n",
      "6 * 9 = 54\n",
      "\n",
      "### 7단 ###\n",
      "7 * 1 = 7\n",
      "7 * 2 = 14\n",
      "7 * 3 = 21\n",
      "7 * 4 = 28\n",
      "7 * 5 = 35\n",
      "7 * 6 = 42\n",
      "7 * 7 = 49\n",
      "7 * 8 = 56\n",
      "7 * 9 = 63\n",
      "\n",
      "### 8단 ###\n",
      "8 * 1 = 8\n",
      "8 * 2 = 16\n",
      "8 * 3 = 24\n",
      "8 * 4 = 32\n",
      "8 * 5 = 40\n",
      "8 * 6 = 48\n",
      "8 * 7 = 56\n",
      "8 * 8 = 64\n",
      "8 * 9 = 72\n",
      "\n",
      "### 9단 ###\n",
      "9 * 1 = 9\n",
      "9 * 2 = 18\n",
      "9 * 3 = 27\n",
      "9 * 4 = 36\n",
      "9 * 5 = 45\n",
      "9 * 6 = 54\n",
      "9 * 7 = 63\n",
      "9 * 8 = 72\n",
      "9 * 9 = 81\n",
      "\n"
     ]
    }
   ],
   "source": [
    "for number in range(2, 10):\n",
    "    print('### {}단 ###'.format(number))\n",
    "    for i in range(1, 10):\n",
    "        print('{} * {} = {}'.format(number, i, number*i))\n",
    "    print()"
   ]
  },
  {
   "cell_type": "code",
   "execution_count": 119,
   "metadata": {},
   "outputs": [
    {
     "name": "stdout",
     "output_type": "stream",
     "text": [
      "### 2단 ###\n",
      "2 * 1 = 2\n",
      "2 * 2 = 4\n",
      "2 * 3 = 6\n",
      "2 * 4 = 8\n",
      "2 * 5 = 10\n",
      "2 * 6 = 12\n",
      "\n",
      "### 3단 ###\n",
      "3 * 1 = 3\n",
      "3 * 2 = 6\n",
      "3 * 3 = 9\n",
      "3 * 4 = 12\n",
      "3 * 5 = 15\n",
      "3 * 6 = 18\n",
      "\n",
      "### 4단 ###\n",
      "4 * 1 = 4\n",
      "4 * 2 = 8\n",
      "4 * 3 = 12\n",
      "4 * 4 = 16\n",
      "4 * 5 = 20\n",
      "4 * 6 = 24\n",
      "\n",
      "### 5단 ###\n",
      "5 * 1 = 5\n",
      "5 * 2 = 10\n",
      "5 * 3 = 15\n",
      "5 * 4 = 20\n",
      "5 * 5 = 25\n",
      "5 * 6 = 30\n",
      "\n",
      "### 6단 ###\n",
      "6 * 1 = 6\n",
      "6 * 2 = 12\n",
      "6 * 3 = 18\n",
      "6 * 4 = 24\n",
      "6 * 5 = 30\n",
      "6 * 6 = 36\n",
      "\n",
      "### 7단 ###\n",
      "7 * 1 = 7\n",
      "7 * 2 = 14\n",
      "7 * 3 = 21\n",
      "7 * 4 = 28\n",
      "7 * 5 = 35\n",
      "7 * 6 = 42\n",
      "\n",
      "### 8단 ###\n",
      "8 * 1 = 8\n",
      "8 * 2 = 16\n",
      "8 * 3 = 24\n",
      "8 * 4 = 32\n",
      "8 * 5 = 40\n",
      "8 * 6 = 48\n",
      "\n",
      "### 9단 ###\n",
      "9 * 1 = 9\n",
      "9 * 2 = 18\n",
      "9 * 3 = 27\n",
      "9 * 4 = 36\n",
      "9 * 5 = 45\n",
      "9 * 6 = 54\n",
      "\n"
     ]
    }
   ],
   "source": [
    "for number in range(2, 10):\n",
    "    print('### {}단 ###'.format(number))\n",
    "    for i in range(1, 10):\n",
    "        print('{} * {} = {}'.format(number, i, number*i))\n",
    "        if i > 5:\n",
    "            break\n",
    "    print()"
   ]
  },
  {
   "cell_type": "markdown",
   "metadata": {},
   "source": [
    "## 함수"
   ]
  },
  {
   "cell_type": "code",
   "execution_count": 122,
   "metadata": {},
   "outputs": [
    {
     "name": "stdout",
     "output_type": "stream",
     "text": [
      "- 2 * 1 = 2\n",
      "- 2 * 2 = 4\n",
      "- 2 * 3 = 6\n",
      "- 2 * 4 = 8\n",
      "- 2 * 5 = 10\n",
      "- 2 * 6 = 12\n",
      "- 2 * 7 = 14\n",
      "- 2 * 8 = 16\n",
      "- 2 * 9 = 18\n",
      "- 3 * 1 = 3\n",
      "- 3 * 2 = 6\n",
      "- 3 * 3 = 9\n",
      "- 3 * 4 = 12\n",
      "- 3 * 5 = 15\n",
      "- 3 * 6 = 18\n",
      "- 3 * 7 = 21\n",
      "- 3 * 8 = 24\n",
      "- 3 * 9 = 27\n",
      "- 4 * 1 = 4\n",
      "- 4 * 2 = 8\n",
      "- 4 * 3 = 12\n",
      "- 4 * 4 = 16\n",
      "- 4 * 5 = 20\n",
      "- 4 * 6 = 24\n",
      "- 4 * 7 = 28\n",
      "- 4 * 8 = 32\n",
      "- 4 * 9 = 36\n",
      "- 5 * 1 = 5\n",
      "- 5 * 2 = 10\n",
      "- 5 * 3 = 15\n",
      "- 5 * 4 = 20\n",
      "- 5 * 5 = 25\n",
      "- 5 * 6 = 30\n",
      "- 5 * 7 = 35\n",
      "- 5 * 8 = 40\n",
      "- 5 * 9 = 45\n"
     ]
    }
   ],
   "source": [
    "number = 2\n",
    "\n",
    "for i in range(1, 10):\n",
    "    print('- {} * {} = {}'.format(number, i, number*i))\n",
    "\n",
    "\n",
    "number = 3\n",
    "\n",
    "for i in range(1, 10):\n",
    "    print('- {} * {} = {}'.format(number, i, number*i))\n",
    "\n",
    "\n",
    "number = 4\n",
    "\n",
    "for i in range(1, 10):\n",
    "    print('- {} * {} = {}'.format(number, i, number*i))\n",
    "\n",
    "\n",
    "number = 5\n",
    "\n",
    "for i in range(1, 10):\n",
    "    print('- {} * {} = {}'.format(number, i, number*i))\n"
   ]
  },
  {
   "cell_type": "code",
   "execution_count": 132,
   "metadata": {
    "collapsed": true
   },
   "outputs": [],
   "source": [
    "# 함수의 적용\n",
    "\n",
    "def print_gugudan(number):\n",
    "    for i in range(1, 10):\n",
    "        print('> {} * {} = {}'.format(number, i, number*i))\n"
   ]
  },
  {
   "cell_type": "code",
   "execution_count": 133,
   "metadata": {},
   "outputs": [
    {
     "name": "stdout",
     "output_type": "stream",
     "text": [
      "> 2 * 1 = 2\n",
      "> 2 * 2 = 4\n",
      "> 2 * 3 = 6\n",
      "> 2 * 4 = 8\n",
      "> 2 * 5 = 10\n",
      "> 2 * 6 = 12\n",
      "> 2 * 7 = 14\n",
      "> 2 * 8 = 16\n",
      "> 2 * 9 = 18\n",
      "> 3 * 1 = 3\n",
      "> 3 * 2 = 6\n",
      "> 3 * 3 = 9\n",
      "> 3 * 4 = 12\n",
      "> 3 * 5 = 15\n",
      "> 3 * 6 = 18\n",
      "> 3 * 7 = 21\n",
      "> 3 * 8 = 24\n",
      "> 3 * 9 = 27\n",
      "> 4 * 1 = 4\n",
      "> 4 * 2 = 8\n",
      "> 4 * 3 = 12\n",
      "> 4 * 4 = 16\n",
      "> 4 * 5 = 20\n",
      "> 4 * 6 = 24\n",
      "> 4 * 7 = 28\n",
      "> 4 * 8 = 32\n",
      "> 4 * 9 = 36\n",
      "> 5 * 1 = 5\n",
      "> 5 * 2 = 10\n",
      "> 5 * 3 = 15\n",
      "> 5 * 4 = 20\n",
      "> 5 * 5 = 25\n",
      "> 5 * 6 = 30\n",
      "> 5 * 7 = 35\n",
      "> 5 * 8 = 40\n",
      "> 5 * 9 = 45\n"
     ]
    }
   ],
   "source": [
    "print_gugudan(2)  # 함수를 호출\n",
    "print_gugudan(3)\n",
    "print_gugudan(4)\n",
    "print_gugudan(5)"
   ]
  },
  {
   "cell_type": "code",
   "execution_count": 134,
   "metadata": {
    "collapsed": true
   },
   "outputs": [],
   "source": [
    "def mysum(x, y):\n",
    "    return x + y"
   ]
  },
  {
   "cell_type": "code",
   "execution_count": 136,
   "metadata": {},
   "outputs": [],
   "source": [
    "number = mysum(1, 2)  # 리턴값을 number 변수에 대입"
   ]
  },
  {
   "cell_type": "code",
   "execution_count": 137,
   "metadata": {
    "collapsed": true
   },
   "outputs": [],
   "source": [
    "def mysum3(x, y, z):\n",
    "    return x + y + z"
   ]
  },
  {
   "cell_type": "code",
   "execution_count": 142,
   "metadata": {},
   "outputs": [
    {
     "name": "stdout",
     "output_type": "stream",
     "text": [
      "6\n",
      "15\n",
      "24\n"
     ]
    }
   ],
   "source": [
    "print(mysum3(1, 2, 3))  # Positional Arguments\n",
    "print(mysum3(4, 5, 6))\n",
    "print(mysum3(7, 8, 9))"
   ]
  },
  {
   "cell_type": "code",
   "execution_count": 144,
   "metadata": {},
   "outputs": [
    {
     "data": {
      "text/plain": [
       "6"
      ]
     },
     "execution_count": 144,
     "metadata": {},
     "output_type": "execute_result"
    }
   ],
   "source": [
    "mysum3(x=1, y=2, z=3)"
   ]
  },
  {
   "cell_type": "code",
   "execution_count": 147,
   "metadata": {},
   "outputs": [
    {
     "data": {
      "text/plain": [
       "6"
      ]
     },
     "execution_count": 147,
     "metadata": {},
     "output_type": "execute_result"
    }
   ],
   "source": [
    "mysum3(z=3, y=2, x=1)  # Keyword Arguments"
   ]
  },
  {
   "cell_type": "markdown",
   "metadata": {},
   "source": [
    "### 디폴트 인자"
   ]
  },
  {
   "cell_type": "code",
   "execution_count": 156,
   "metadata": {
    "collapsed": true
   },
   "outputs": [],
   "source": [
    "def mysum4(a, b, c, d=0):  # d=0 => 디폴트 인자\n",
    "    return a ** b + c - d"
   ]
  },
  {
   "cell_type": "code",
   "execution_count": 157,
   "metadata": {},
   "outputs": [
    {
     "data": {
      "text/plain": [
       "7"
      ]
     },
     "execution_count": 157,
     "metadata": {},
     "output_type": "execute_result"
    }
   ],
   "source": [
    "mysum4(2, 3, 3, 4)"
   ]
  },
  {
   "cell_type": "code",
   "execution_count": 158,
   "metadata": {},
   "outputs": [
    {
     "data": {
      "text/plain": [
       "11"
      ]
     },
     "execution_count": 158,
     "metadata": {},
     "output_type": "execute_result"
    }
   ],
   "source": [
    "mysum4(2, 3, 3)"
   ]
  },
  {
   "cell_type": "markdown",
   "metadata": {},
   "source": [
    "## 퀴즈"
   ]
  },
  {
   "cell_type": "markdown",
   "metadata": {},
   "source": [
    "문자열을 입력받아, 그 문자열내 포함된 단어의 횟수를 카운팅한 사전을 리턴하는 함수를 작성하세요."
   ]
  },
  {
   "cell_type": "code",
   "execution_count": 165,
   "metadata": {
    "collapsed": true
   },
   "outputs": [],
   "source": [
    "def word_count(content):\n",
    "    counter_dict = {}\n",
    "    for word in content.split():\n",
    "        if word not in counter_dict:\n",
    "            counter_dict[word] = 1\n",
    "        else:\n",
    "            counter_dict[word] += 1\n",
    "    return counter_dict"
   ]
  },
  {
   "cell_type": "code",
   "execution_count": 166,
   "metadata": {},
   "outputs": [
    {
     "data": {
      "text/plain": [
       "{'아이폰': 2, '아이폰6': 1, '안드로이드': 1}"
      ]
     },
     "execution_count": 166,
     "metadata": {},
     "output_type": "execute_result"
    }
   ],
   "source": [
    "word_count('''\n",
    "    아이폰 아이폰 안드로이드 아이폰6\n",
    "''')\n",
    "\n",
    "# 출력결과 : {'아이폰': 2, '안드로이드': 1, '아이폰6': 1}"
   ]
  },
  {
   "cell_type": "code",
   "execution_count": null,
   "metadata": {
    "collapsed": true
   },
   "outputs": [],
   "source": []
  }
 ],
 "metadata": {
  "kernelspec": {
   "display_name": "Python 3",
   "language": "python",
   "name": "python3"
  },
  "language_info": {
   "codemirror_mode": {
    "name": "ipython",
    "version": 3
   },
   "file_extension": ".py",
   "mimetype": "text/x-python",
   "name": "python",
   "nbconvert_exporter": "python",
   "pygments_lexer": "ipython3",
   "version": "3.6.1"
  }
 },
 "nbformat": 4,
 "nbformat_minor": 2
}

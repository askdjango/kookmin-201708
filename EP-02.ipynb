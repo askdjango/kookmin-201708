{
 "cells": [
  {
   "cell_type": "markdown",
   "metadata": {
    "collapsed": true
   },
   "source": [
    "## 들여쓰기"
   ]
  },
  {
   "cell_type": "code",
   "execution_count": 3,
   "metadata": {},
   "outputs": [
    {
     "name": "stdout",
     "output_type": "stream",
     "text": [
      "0\n",
      "0\n",
      "0\n",
      "1\n",
      "1\n",
      "1\n",
      "2\n",
      "4\n",
      "8\n",
      "3\n",
      "9\n",
      "27\n",
      "4\n",
      "16\n",
      "64\n",
      "5\n",
      "25\n",
      "125\n",
      "6\n",
      "36\n",
      "216\n",
      "7\n",
      "49\n",
      "343\n",
      "8\n",
      "64\n",
      "512\n",
      "9\n",
      "81\n",
      "729\n"
     ]
    }
   ],
   "source": [
    "for i in range(10):\n",
    "    printco\n",
    "    print(i**2)\n",
    "    print(i**3)"
   ]
  },
  {
   "cell_type": "markdown",
   "metadata": {},
   "source": [
    "## 주석"
   ]
  },
  {
   "cell_type": "code",
   "execution_count": 5,
   "metadata": {},
   "outputs": [
    {
     "name": "stdout",
     "output_type": "stream",
     "text": [
      "0\n",
      "0\n",
      "1\n",
      "1\n",
      "2\n",
      "4\n"
     ]
    }
   ],
   "source": [
    "# 0이상 3미만의 값의 범위에서\n",
    "# 순회를 돌며, 해당 값과 제곱값을 출력합니다.\n",
    "\n",
    "for i in range(3):\n",
    "    print(i)\n",
    "    print(i**2)  # i의 제곱값을 출력합니다."
   ]
  },
  {
   "cell_type": "code",
   "execution_count": 6,
   "metadata": {},
   "outputs": [
    {
     "data": {
      "text/plain": [
       "'0이상 3미만의 값을 범위에서'"
      ]
     },
     "execution_count": 6,
     "metadata": {},
     "output_type": "execute_result"
    }
   ],
   "source": [
    "'0이상 3미만의 값을 범위에서'"
   ]
  },
  {
   "cell_type": "code",
   "execution_count": 9,
   "metadata": {},
   "outputs": [
    {
     "name": "stdout",
     "output_type": "stream",
     "text": [
      "0\n",
      "0\n",
      "1\n",
      "1\n",
      "2\n",
      "4\n"
     ]
    }
   ],
   "source": [
    "'''\n",
    "0이상 3미만의 값의 범위에서\n",
    "순회를 돌며, 해당 값과 제곱값을 출력합니다.\n",
    "'''\n",
    "\n",
    "for i in range(3):\n",
    "    print(i)\n",
    "    print(i**2)  # i의 제곱값을 출력합니다."
   ]
  },
  {
   "cell_type": "code",
   "execution_count": 10,
   "metadata": {
    "collapsed": true
   },
   "outputs": [],
   "source": [
    "def mysum(x, y):\n",
    "    '''\n",
    "    2개의 인자를 받아서, 더한 값을 리턴해주는 함수\n",
    "    '''\n",
    "    return x + y"
   ]
  },
  {
   "cell_type": "code",
   "execution_count": 11,
   "metadata": {},
   "outputs": [
    {
     "data": {
      "text/plain": [
       "'\\n    2개의 인자를 받아서, 더한 값을 리턴해주는 함수\\n    '"
      ]
     },
     "execution_count": 11,
     "metadata": {},
     "output_type": "execute_result"
    }
   ],
   "source": [
    "mysum.__doc__"
   ]
  },
  {
   "cell_type": "code",
   "execution_count": 12,
   "metadata": {
    "collapsed": true
   },
   "outputs": [],
   "source": [
    "mysum?  # ipython notebook 에서만 지원해주는 기능"
   ]
  },
  {
   "cell_type": "code",
   "execution_count": null,
   "metadata": {
    "collapsed": true
   },
   "outputs": [],
   "source": []
  }
 ],
 "metadata": {
  "kernelspec": {
   "display_name": "Python 3",
   "language": "python",
   "name": "python3"
  },
  "language_info": {
   "codemirror_mode": {
    "name": "ipython",
    "version": 3
   },
   "file_extension": ".py",
   "mimetype": "text/x-python",
   "name": "python",
   "nbconvert_exporter": "python",
   "pygments_lexer": "ipython3",
   "version": "3.6.1"
  }
 },
 "nbformat": 4,
 "nbformat_minor": 2
}

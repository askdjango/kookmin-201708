{
 "cells": [
  {
   "cell_type": "markdown",
   "metadata": {},
   "source": [
    "## 숫자야구 풀이"
   ]
  },
  {
   "cell_type": "code",
   "execution_count": 6,
   "metadata": {},
   "outputs": [],
   "source": [
    "import random\n",
    "\n",
    "random_numbers = random.sample(range(1, 10), 3)"
   ]
  },
  {
   "cell_type": "code",
   "execution_count": 9,
   "metadata": {},
   "outputs": [],
   "source": [
    "# input(\"Enter numbers : \").split()  # 입력 예) \"3 4 5\""
   ]
  },
  {
   "cell_type": "code",
   "execution_count": 15,
   "metadata": {},
   "outputs": [
    {
     "name": "stdout",
     "output_type": "stream",
     "text": [
      "Enter numbers : 345\n"
     ]
    },
    {
     "data": {
      "text/plain": [
       "['3', '4', '5']"
      ]
     },
     "execution_count": 15,
     "metadata": {},
     "output_type": "execute_result"
    }
   ],
   "source": [
    "numbers = list(input(\"Enter numbers : \"))   # 입력 예) \"345\"\n",
    "numbers"
   ]
  },
  {
   "cell_type": "markdown",
   "metadata": {},
   "source": [
    "### 숫자 비교"
   ]
  },
  {
   "cell_type": "code",
   "execution_count": 16,
   "metadata": {},
   "outputs": [
    {
     "data": {
      "text/plain": [
       "[7, 4, 8]"
      ]
     },
     "execution_count": 16,
     "metadata": {},
     "output_type": "execute_result"
    }
   ],
   "source": [
    "random_numbers"
   ]
  },
  {
   "cell_type": "code",
   "execution_count": 17,
   "metadata": {},
   "outputs": [
    {
     "data": {
      "text/plain": [
       "['3', '4', '5']"
      ]
     },
     "execution_count": 17,
     "metadata": {},
     "output_type": "execute_result"
    }
   ],
   "source": [
    "numbers"
   ]
  },
  {
   "cell_type": "code",
   "execution_count": 18,
   "metadata": {},
   "outputs": [
    {
     "data": {
      "text/plain": [
       "7"
      ]
     },
     "execution_count": 18,
     "metadata": {},
     "output_type": "execute_result"
    }
   ],
   "source": [
    "random_numbers[0]"
   ]
  },
  {
   "cell_type": "code",
   "execution_count": 19,
   "metadata": {},
   "outputs": [
    {
     "data": {
      "text/plain": [
       "'3'"
      ]
     },
     "execution_count": 19,
     "metadata": {},
     "output_type": "execute_result"
    }
   ],
   "source": [
    "numbers[0]"
   ]
  },
  {
   "cell_type": "code",
   "execution_count": 20,
   "metadata": {},
   "outputs": [
    {
     "data": {
      "text/plain": [
       "False"
      ]
     },
     "execution_count": 20,
     "metadata": {},
     "output_type": "execute_result"
    }
   ],
   "source": [
    "7 == '7'"
   ]
  },
  {
   "cell_type": "code",
   "execution_count": 21,
   "metadata": {},
   "outputs": [
    {
     "data": {
      "text/plain": [
       "True"
      ]
     },
     "execution_count": 21,
     "metadata": {},
     "output_type": "execute_result"
    }
   ],
   "source": [
    "7 == int('7')"
   ]
  },
  {
   "cell_type": "markdown",
   "metadata": {},
   "source": [
    "### 구현"
   ]
  },
  {
   "cell_type": "code",
   "execution_count": 22,
   "metadata": {},
   "outputs": [
    {
     "name": "stdout",
     "output_type": "stream",
     "text": [
      "Enter numbers : 123\n",
      "Strike 0, Ball 2\n",
      "Enter numbers : 124\n",
      "Strike 0, Ball 1\n",
      "Enter numbers : 135\n",
      "Strike 0, Ball 2\n",
      "Enter numbers : 136\n",
      "Strike 0, Ball 2\n",
      "Enter numbers : 137\n",
      "Strike 0, Ball 2\n",
      "Enter numbers : 138\n",
      "Strike 0, Ball 2\n",
      "Enter numbers : 139\n",
      "Strike 0, Ball 3\n",
      "Enter numbers : 319\n",
      "Strike 1, Ball 2\n",
      "Enter numbers : 391\n",
      "Excellent !!!\n"
     ]
    }
   ],
   "source": [
    "import random\n",
    "\n",
    "random_numbers = random.sample(range(1, 10), 3)\n",
    "\n",
    "for i in range(20):\n",
    "    numbers = input(\"Enter numbers : \")  # 항상 3자리로 입력함으로 가정\n",
    "    \n",
    "    strike = 0\n",
    "    random_remain = []\n",
    "    number_remain = []\n",
    "    for i in range(3):\n",
    "        if random_numbers[i] == int(numbers[i]):\n",
    "            strike += 1\n",
    "        else:\n",
    "            random_remain.append(random_numbers[i])\n",
    "            number_remain.append(int(numbers[i]))\n",
    "    \n",
    "    ball = len(set(random_remain) & set(number_remain))  # 볼 카운트\n",
    "    \n",
    "    if strike == 3:\n",
    "        print('Excellent !!!')\n",
    "        break\n",
    "    elif strike > 0 or ball > 0:\n",
    "        print('Strike {}, Ball {}'.format(strike, ball))\n",
    "    else:\n",
    "        print('Out')"
   ]
  },
  {
   "cell_type": "markdown",
   "metadata": {},
   "source": [
    "## 약간의 코드 개선"
   ]
  },
  {
   "cell_type": "code",
   "execution_count": 23,
   "metadata": {},
   "outputs": [
    {
     "name": "stdout",
     "output_type": "stream",
     "text": [
      "Enter numbers : 123\n",
      "Strike 1, Ball 0\n",
      "Enter numbers : 124\n",
      "Strike 1, Ball 0\n",
      "Enter numbers : 156\n",
      "Out\n",
      "Enter numbers : 245\n",
      "Strike 0, Ball 1\n",
      "Enter numbers : 256\n",
      "Strike 0, Ball 1\n",
      "Enter numbers : 278\n",
      "Strike 0, Ball 2\n",
      "Enter numbers : 279\n",
      "Strike 0, Ball 2\n",
      "Enter numbers : 270\n",
      "Strike 0, Ball 3\n",
      "Enter numbers : 027\n",
      "Excellent !!!\n"
     ]
    }
   ],
   "source": [
    "import random\n",
    "\n",
    "random_numbers = random.sample('0123456789', 3)\n",
    "\n",
    "for i in range(20):\n",
    "    numbers = input(\"Enter numbers : \")  # 항상 3자리로 입력함으로 가정\n",
    "    \n",
    "    strike = 0\n",
    "    random_remain = []\n",
    "    number_remain = []\n",
    "    \n",
    "    for n1, n2 in zip(random_numbers, numbers):\n",
    "        if n1 == n2:\n",
    "            strike += 1\n",
    "        else:\n",
    "            random_remain.append(n1)\n",
    "            number_remain.append(n2)\n",
    "    \n",
    "    ball = len(set(random_remain) & set(number_remain))  # 볼 카운트\n",
    "    \n",
    "    if strike == 3:\n",
    "        print('Excellent !!!')\n",
    "        break\n",
    "    elif strike > 0 or ball > 0:\n",
    "        print('Strike {}, Ball {}'.format(strike, ball))\n",
    "    else:\n",
    "        print('Out')"
   ]
  },
  {
   "cell_type": "markdown",
   "metadata": {},
   "source": [
    "## Quiz : 100이하 3과 5의 배수, 값들의 합 구하기"
   ]
  },
  {
   "cell_type": "markdown",
   "metadata": {},
   "source": [
    "20이하, 3과 5의 배수의 목록\n",
    "\n",
    "```\n",
    "3, 6, 9, 12, 15, 18\n",
    "5, 10, 15\n",
    "```"
   ]
  },
  {
   "cell_type": "code",
   "execution_count": 24,
   "metadata": {},
   "outputs": [
    {
     "data": {
      "text/plain": [
       "2418"
      ]
     },
     "execution_count": 24,
     "metadata": {},
     "output_type": "execute_result"
    }
   ],
   "source": [
    "# set(3의 배수 리스트) | set(5의 배수 리스트)\n",
    "\n",
    "numbers = []\n",
    "\n",
    "for i in range(101):\n",
    "    if i % 3 == 0:\n",
    "        numbers.append(i)\n",
    "    elif i % 5 == 0:\n",
    "        numbers.append(i)\n",
    "\n",
    "mysum = 0\n",
    "for i in numbers:\n",
    "    mysum += i\n",
    "\n",
    "mysum"
   ]
  },
  {
   "cell_type": "code",
   "execution_count": 29,
   "metadata": {},
   "outputs": [
    {
     "data": {
      "text/plain": [
       "2418"
      ]
     },
     "execution_count": 29,
     "metadata": {},
     "output_type": "execute_result"
    }
   ],
   "source": [
    "# range(시작값, 종료값, 증가값)  # 시작값 이상, 종료값 미만\n",
    "\n",
    "sum(set(range(0, 101, 3)) | set(range(0, 101, 5)))"
   ]
  },
  {
   "cell_type": "markdown",
   "metadata": {},
   "source": [
    "## 1급 함수 (First Class Function)"
   ]
  },
  {
   "cell_type": "code",
   "execution_count": 31,
   "metadata": {
    "collapsed": true
   },
   "outputs": [],
   "source": [
    "def mysum(x, y):\n",
    "    result = x + y  # mysum이 호출될 때, result 변수가 새롭게 생성\n",
    "    return result"
   ]
  },
  {
   "cell_type": "code",
   "execution_count": 32,
   "metadata": {},
   "outputs": [
    {
     "name": "stdout",
     "output_type": "stream",
     "text": [
      "3\n",
      "3\n",
      "3\n"
     ]
    }
   ],
   "source": [
    "print(mysum(1, 2))\n",
    "print(mysum(1, 2))\n",
    "print(mysum(1, 2))"
   ]
  },
  {
   "cell_type": "code",
   "execution_count": 33,
   "metadata": {},
   "outputs": [
    {
     "data": {
      "text/plain": [
       "13"
      ]
     },
     "execution_count": 33,
     "metadata": {},
     "output_type": "execute_result"
    }
   ],
   "source": [
    "def mysum2(x, y):\n",
    "    return x + y + 10\n",
    "\n",
    "mysum2(1, 2)"
   ]
  },
  {
   "cell_type": "code",
   "execution_count": 34,
   "metadata": {},
   "outputs": [
    {
     "data": {
      "text/plain": [
       "13"
      ]
     },
     "execution_count": 34,
     "metadata": {},
     "output_type": "execute_result"
    }
   ],
   "source": [
    "# 익명 함수 (Anonumous Function)\n",
    "\n",
    "(lambda x, y: x + y + 10)(1, 2)\n"
   ]
  },
  {
   "cell_type": "code",
   "execution_count": 36,
   "metadata": {},
   "outputs": [
    {
     "data": {
      "text/plain": [
       "13"
      ]
     },
     "execution_count": 36,
     "metadata": {},
     "output_type": "execute_result"
    }
   ],
   "source": [
    "other_fn2 = mysum2\n",
    "other_fn2(1, 2)"
   ]
  },
  {
   "cell_type": "code",
   "execution_count": 37,
   "metadata": {},
   "outputs": [
    {
     "data": {
      "text/plain": [
       "13"
      ]
     },
     "execution_count": 37,
     "metadata": {},
     "output_type": "execute_result"
    }
   ],
   "source": [
    "other_mysum2 = lambda x, y: x + y + 10\n",
    "other_mysum2(1, 2)"
   ]
  },
  {
   "cell_type": "code",
   "execution_count": null,
   "metadata": {
    "collapsed": true
   },
   "outputs": [],
   "source": []
  }
 ],
 "metadata": {
  "kernelspec": {
   "display_name": "Python 3",
   "language": "python",
   "name": "python3"
  },
  "language_info": {
   "codemirror_mode": {
    "name": "ipython",
    "version": 3
   },
   "file_extension": ".py",
   "mimetype": "text/x-python",
   "name": "python",
   "nbconvert_exporter": "python",
   "pygments_lexer": "ipython3",
   "version": "3.6.1"
  }
 },
 "nbformat": 4,
 "nbformat_minor": 2
}

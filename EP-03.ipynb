{
 "cells": [
  {
   "cell_type": "markdown",
   "metadata": {},
   "source": [
    "## 숫자야구 풀이"
   ]
  },
  {
   "cell_type": "code",
   "execution_count": 6,
   "metadata": {
    "collapsed": true
   },
   "outputs": [],
   "source": [
    "import random\n",
    "\n",
    "random_numbers = random.sample(range(1, 10), 3)"
   ]
  },
  {
   "cell_type": "code",
   "execution_count": 9,
   "metadata": {
    "collapsed": true
   },
   "outputs": [],
   "source": [
    "# input(\"Enter numbers : \").split()  # 입력 예) \"3 4 5\""
   ]
  },
  {
   "cell_type": "code",
   "execution_count": 15,
   "metadata": {},
   "outputs": [
    {
     "name": "stdout",
     "output_type": "stream",
     "text": [
      "Enter numbers : 345\n"
     ]
    },
    {
     "data": {
      "text/plain": [
       "['3', '4', '5']"
      ]
     },
     "execution_count": 15,
     "metadata": {},
     "output_type": "execute_result"
    }
   ],
   "source": [
    "numbers = list(input(\"Enter numbers : \"))   # 입력 예) \"345\"\n",
    "numbers"
   ]
  },
  {
   "cell_type": "markdown",
   "metadata": {},
   "source": [
    "### 숫자 비교"
   ]
  },
  {
   "cell_type": "code",
   "execution_count": 16,
   "metadata": {},
   "outputs": [
    {
     "data": {
      "text/plain": [
       "[7, 4, 8]"
      ]
     },
     "execution_count": 16,
     "metadata": {},
     "output_type": "execute_result"
    }
   ],
   "source": [
    "random_numbers"
   ]
  },
  {
   "cell_type": "code",
   "execution_count": 17,
   "metadata": {},
   "outputs": [
    {
     "data": {
      "text/plain": [
       "['3', '4', '5']"
      ]
     },
     "execution_count": 17,
     "metadata": {},
     "output_type": "execute_result"
    }
   ],
   "source": [
    "numbers"
   ]
  },
  {
   "cell_type": "code",
   "execution_count": 18,
   "metadata": {},
   "outputs": [
    {
     "data": {
      "text/plain": [
       "7"
      ]
     },
     "execution_count": 18,
     "metadata": {},
     "output_type": "execute_result"
    }
   ],
   "source": [
    "random_numbers[0]"
   ]
  },
  {
   "cell_type": "code",
   "execution_count": 19,
   "metadata": {},
   "outputs": [
    {
     "data": {
      "text/plain": [
       "'3'"
      ]
     },
     "execution_count": 19,
     "metadata": {},
     "output_type": "execute_result"
    }
   ],
   "source": [
    "numbers[0]"
   ]
  },
  {
   "cell_type": "code",
   "execution_count": 20,
   "metadata": {},
   "outputs": [
    {
     "data": {
      "text/plain": [
       "False"
      ]
     },
     "execution_count": 20,
     "metadata": {},
     "output_type": "execute_result"
    }
   ],
   "source": [
    "7 == '7'"
   ]
  },
  {
   "cell_type": "code",
   "execution_count": 21,
   "metadata": {},
   "outputs": [
    {
     "data": {
      "text/plain": [
       "True"
      ]
     },
     "execution_count": 21,
     "metadata": {},
     "output_type": "execute_result"
    }
   ],
   "source": [
    "7 == int('7')"
   ]
  },
  {
   "cell_type": "markdown",
   "metadata": {},
   "source": [
    "### 구현"
   ]
  },
  {
   "cell_type": "code",
   "execution_count": 22,
   "metadata": {},
   "outputs": [
    {
     "name": "stdout",
     "output_type": "stream",
     "text": [
      "Enter numbers : 123\n",
      "Strike 0, Ball 2\n",
      "Enter numbers : 124\n",
      "Strike 0, Ball 1\n",
      "Enter numbers : 135\n",
      "Strike 0, Ball 2\n",
      "Enter numbers : 136\n",
      "Strike 0, Ball 2\n",
      "Enter numbers : 137\n",
      "Strike 0, Ball 2\n",
      "Enter numbers : 138\n",
      "Strike 0, Ball 2\n",
      "Enter numbers : 139\n",
      "Strike 0, Ball 3\n",
      "Enter numbers : 319\n",
      "Strike 1, Ball 2\n",
      "Enter numbers : 391\n",
      "Excellent !!!\n"
     ]
    }
   ],
   "source": [
    "import random\n",
    "\n",
    "random_numbers = random.sample(range(1, 10), 3)\n",
    "\n",
    "for i in range(20):\n",
    "    numbers = input(\"Enter numbers : \")  # 항상 3자리로 입력함으로 가정\n",
    "    \n",
    "    strike = 0\n",
    "    random_remain = []\n",
    "    number_remain = []\n",
    "    for i in range(3):\n",
    "        if random_numbers[i] == int(numbers[i]):\n",
    "            strike += 1\n",
    "        else:\n",
    "            random_remain.append(random_numbers[i])\n",
    "            number_remain.append(int(numbers[i]))\n",
    "    \n",
    "    ball = len(set(random_remain) & set(number_remain))  # 볼 카운트\n",
    "    \n",
    "    if strike == 3:\n",
    "        print('Excellent !!!')\n",
    "        break\n",
    "    elif strike > 0 or ball > 0:\n",
    "        print('Strike {}, Ball {}'.format(strike, ball))\n",
    "    else:\n",
    "        print('Out')"
   ]
  },
  {
   "cell_type": "markdown",
   "metadata": {},
   "source": [
    "## 약간의 코드 개선"
   ]
  },
  {
   "cell_type": "code",
   "execution_count": 23,
   "metadata": {},
   "outputs": [
    {
     "name": "stdout",
     "output_type": "stream",
     "text": [
      "Enter numbers : 123\n",
      "Strike 1, Ball 0\n",
      "Enter numbers : 124\n",
      "Strike 1, Ball 0\n",
      "Enter numbers : 156\n",
      "Out\n",
      "Enter numbers : 245\n",
      "Strike 0, Ball 1\n",
      "Enter numbers : 256\n",
      "Strike 0, Ball 1\n",
      "Enter numbers : 278\n",
      "Strike 0, Ball 2\n",
      "Enter numbers : 279\n",
      "Strike 0, Ball 2\n",
      "Enter numbers : 270\n",
      "Strike 0, Ball 3\n",
      "Enter numbers : 027\n",
      "Excellent !!!\n"
     ]
    }
   ],
   "source": [
    "import random\n",
    "\n",
    "random_numbers = random.sample('0123456789', 3)\n",
    "\n",
    "for i in range(20):\n",
    "    numbers = input(\"Enter numbers : \")  # 항상 3자리로 입력함으로 가정\n",
    "    \n",
    "    strike = 0\n",
    "    random_remain = []\n",
    "    number_remain = []\n",
    "    \n",
    "    for n1, n2 in zip(random_numbers, numbers):\n",
    "        if n1 == n2:\n",
    "            strike += 1\n",
    "        else:\n",
    "            random_remain.append(n1)\n",
    "            number_remain.append(n2)\n",
    "    \n",
    "    ball = len(set(random_remain) & set(number_remain))  # 볼 카운트\n",
    "    \n",
    "    if strike == 3:\n",
    "        print('Excellent !!!')\n",
    "        break\n",
    "    elif strike > 0 or ball > 0:\n",
    "        print('Strike {}, Ball {}'.format(strike, ball))\n",
    "    else:\n",
    "        print('Out')"
   ]
  },
  {
   "cell_type": "markdown",
   "metadata": {},
   "source": [
    "## Quiz : 100이하 3과 5의 배수, 값들의 합 구하기"
   ]
  },
  {
   "cell_type": "markdown",
   "metadata": {},
   "source": [
    "20이하, 3과 5의 배수의 목록\n",
    "\n",
    "```\n",
    "3, 6, 9, 12, 15, 18\n",
    "5, 10, 15\n",
    "```"
   ]
  },
  {
   "cell_type": "code",
   "execution_count": 24,
   "metadata": {},
   "outputs": [
    {
     "data": {
      "text/plain": [
       "2418"
      ]
     },
     "execution_count": 24,
     "metadata": {},
     "output_type": "execute_result"
    }
   ],
   "source": [
    "# set(3의 배수 리스트) | set(5의 배수 리스트)\n",
    "\n",
    "numbers = []\n",
    "\n",
    "for i in range(101):\n",
    "    if i % 3 == 0:\n",
    "        numbers.append(i)\n",
    "    elif i % 5 == 0:\n",
    "        numbers.append(i)\n",
    "\n",
    "mysum = 0\n",
    "for i in numbers:\n",
    "    mysum += i\n",
    "\n",
    "mysum"
   ]
  },
  {
   "cell_type": "code",
   "execution_count": 29,
   "metadata": {},
   "outputs": [
    {
     "data": {
      "text/plain": [
       "2418"
      ]
     },
     "execution_count": 29,
     "metadata": {},
     "output_type": "execute_result"
    }
   ],
   "source": [
    "# range(시작값, 종료값, 증가값)  # 시작값 이상, 종료값 미만\n",
    "\n",
    "sum(set(range(0, 101, 3)) | set(range(0, 101, 5)))"
   ]
  },
  {
   "cell_type": "markdown",
   "metadata": {},
   "source": [
    "## 1급 함수 (First Class Function)"
   ]
  },
  {
   "cell_type": "code",
   "execution_count": 31,
   "metadata": {
    "collapsed": true
   },
   "outputs": [],
   "source": [
    "def mysum(x, y):\n",
    "    result = x + y  # mysum이 호출될 때, result 변수가 새롭게 생성\n",
    "    return result"
   ]
  },
  {
   "cell_type": "code",
   "execution_count": 32,
   "metadata": {},
   "outputs": [
    {
     "name": "stdout",
     "output_type": "stream",
     "text": [
      "3\n",
      "3\n",
      "3\n"
     ]
    }
   ],
   "source": [
    "print(mysum(1, 2))\n",
    "print(mysum(1, 2))\n",
    "print(mysum(1, 2))"
   ]
  },
  {
   "cell_type": "code",
   "execution_count": 33,
   "metadata": {},
   "outputs": [
    {
     "data": {
      "text/plain": [
       "13"
      ]
     },
     "execution_count": 33,
     "metadata": {},
     "output_type": "execute_result"
    }
   ],
   "source": [
    "def mysum2(x, y):\n",
    "    return x + y + 10\n",
    "\n",
    "mysum2(1, 2)"
   ]
  },
  {
   "cell_type": "code",
   "execution_count": 34,
   "metadata": {},
   "outputs": [
    {
     "data": {
      "text/plain": [
       "13"
      ]
     },
     "execution_count": 34,
     "metadata": {},
     "output_type": "execute_result"
    }
   ],
   "source": [
    "# 익명 함수 (Anonumous Function)\n",
    "\n",
    "(lambda x, y: x + y + 10)(1, 2)\n"
   ]
  },
  {
   "cell_type": "code",
   "execution_count": 36,
   "metadata": {},
   "outputs": [
    {
     "data": {
      "text/plain": [
       "13"
      ]
     },
     "execution_count": 36,
     "metadata": {},
     "output_type": "execute_result"
    }
   ],
   "source": [
    "other_fn2 = mysum2\n",
    "other_fn2(1, 2)"
   ]
  },
  {
   "cell_type": "code",
   "execution_count": 41,
   "metadata": {},
   "outputs": [
    {
     "data": {
      "text/plain": [
       "13"
      ]
     },
     "execution_count": 41,
     "metadata": {},
     "output_type": "execute_result"
    }
   ],
   "source": [
    "other_mysum2 = lambda x, y: x + y + 10\n",
    "other_mysum2(1, 2)"
   ]
  },
  {
   "cell_type": "code",
   "execution_count": 43,
   "metadata": {},
   "outputs": [
    {
     "data": {
      "text/plain": [
       "13"
      ]
     },
     "execution_count": 43,
     "metadata": {},
     "output_type": "execute_result"
    }
   ],
   "source": [
    "def myfn():\n",
    "    i = 10\n",
    "    fn = lambda x, y: x + y + 10\n",
    "    return fn(1, 2)\n",
    "\n",
    "myfn()"
   ]
  },
  {
   "cell_type": "code",
   "execution_count": 44,
   "metadata": {},
   "outputs": [
    {
     "data": {
      "text/plain": [
       "40"
      ]
     },
     "execution_count": 44,
     "metadata": {},
     "output_type": "execute_result"
    }
   ],
   "source": [
    "def myfn(a, b):\n",
    "    fn = lambda x, y: x + y + 10\n",
    "    return fn(a, b)\n",
    "\n",
    "myfn(10, 20)"
   ]
  },
  {
   "cell_type": "code",
   "execution_count": 45,
   "metadata": {},
   "outputs": [
    {
     "data": {
      "text/plain": [
       "13"
      ]
     },
     "execution_count": 45,
     "metadata": {},
     "output_type": "execute_result"
    }
   ],
   "source": [
    "def mysum(x, y):\n",
    "    return x + y\n",
    "\n",
    "def myfn(fn, x, y):\n",
    "    return fn(x, y) + 10\n",
    "\n",
    "myfn(mysum, 1, 2)"
   ]
  },
  {
   "cell_type": "code",
   "execution_count": 49,
   "metadata": {},
   "outputs": [
    {
     "data": {
      "text/plain": [
       "[1, 2, 3, 4, 5]"
      ]
     },
     "execution_count": 49,
     "metadata": {},
     "output_type": "execute_result"
    }
   ],
   "source": [
    "numbers = ['1', '2', '3', '4', '5']  # 숫자 문자열의 리스트\n",
    "\n",
    "'''\n",
    "int_numbers = []\n",
    "for number in numbers:\n",
    "    int_numbers.append(int(number))\n",
    "int_numbers\n",
    "'''\n",
    "\n",
    "list(map(int, numbers))"
   ]
  },
  {
   "cell_type": "markdown",
   "metadata": {},
   "source": [
    "## 정렬"
   ]
  },
  {
   "cell_type": "code",
   "execution_count": 50,
   "metadata": {},
   "outputs": [
    {
     "data": {
      "text/plain": [
       "[50, 22, 35, 9, 56, 13, 70, 19, 77, 99]"
      ]
     },
     "execution_count": 50,
     "metadata": {},
     "output_type": "execute_result"
    }
   ],
   "source": [
    "import random\n",
    "\n",
    "numbers = random.sample(range(1, 101), 10)\n",
    "numbers"
   ]
  },
  {
   "cell_type": "code",
   "execution_count": 52,
   "metadata": {},
   "outputs": [
    {
     "data": {
      "text/plain": [
       "[9, 13, 19, 22, 35, 50, 56, 70, 77, 99]"
      ]
     },
     "execution_count": 52,
     "metadata": {},
     "output_type": "execute_result"
    }
   ],
   "source": [
    "sorted(numbers)  # 각 값들에 대해 오름차순 정렬"
   ]
  },
  {
   "cell_type": "code",
   "execution_count": 53,
   "metadata": {},
   "outputs": [
    {
     "data": {
      "text/plain": [
       "[50, 22, 35, 9, 56, 13, 70, 19, 77, 99]"
      ]
     },
     "execution_count": 53,
     "metadata": {},
     "output_type": "execute_result"
    }
   ],
   "source": [
    "numbers  # 그대로 유지"
   ]
  },
  {
   "cell_type": "code",
   "execution_count": 54,
   "metadata": {},
   "outputs": [
    {
     "data": {
      "text/plain": [
       "[99, 77, 70, 56, 50, 35, 22, 19, 13, 9]"
      ]
     },
     "execution_count": 54,
     "metadata": {},
     "output_type": "execute_result"
    }
   ],
   "source": [
    "sorted(numbers, reverse=True)  # 각 값들에 대해 내림차순 정렬"
   ]
  },
  {
   "cell_type": "code",
   "execution_count": 58,
   "metadata": {},
   "outputs": [
    {
     "name": "stdout",
     "output_type": "stream",
     "text": [
      "[3, 6, 11, 14]\n",
      "[11, 3, 14, 6]\n"
     ]
    }
   ],
   "source": [
    "numbers = [11, 3, 6, 14]\n",
    "print(sorted(numbers))\n",
    "\n",
    "def sort_fn(value):\n",
    "    return value % 10\n",
    "\n",
    "# list, tuple, str, set, dict 등 모든 순회가능한 객체가 가능\n",
    "print(sorted(numbers, key=sort_fn))"
   ]
  },
  {
   "cell_type": "markdown",
   "metadata": {},
   "source": [
    "### 퀴즈"
   ]
  },
  {
   "cell_type": "code",
   "execution_count": 2,
   "metadata": {
    "collapsed": true
   },
   "outputs": [],
   "source": [
    "학생성적 = [\n",
    "    {'이름': '철수', '성적': {'국어': 100, '수학': 90, '영어': 80}},\n",
    "    {'이름': '영희', '성적': {'국어': 80, '수학': 95, '영어': 85}},\n",
    "    {'이름': '스티브', '성적': {'국어': 70, '수학': 93, '영어': 82}},\n",
    "    {'이름': '존', '성적': {'국어': 96, '수학': 100, '영어': 32}},\n",
    "    {'이름': '스크루지', '성적': {'국어': 80, '수학': 50, '영어': 92}},\n",
    "]"
   ]
  },
  {
   "cell_type": "code",
   "execution_count": 5,
   "metadata": {},
   "outputs": [
    {
     "name": "stdout",
     "output_type": "stream",
     "text": [
      "[{'성적': {'국어': 100, '수학': 90, '영어': 80}, '이름': '철수'},\n",
      " {'성적': {'국어': 96, '수학': 100, '영어': 32}, '이름': '존'},\n",
      " {'성적': {'국어': 80, '수학': 95, '영어': 85}, '이름': '영희'},\n",
      " {'성적': {'국어': 80, '수학': 50, '영어': 92}, '이름': '스크루지'},\n",
      " {'성적': {'국어': 70, '수학': 93, '영어': 82}, '이름': '스티브'}]\n"
     ]
    }
   ],
   "source": [
    "from pprint import pprint\n",
    "# 1) 국어성적에 대한 내림차순 정렬\n",
    "\n",
    "def sort_fn(학생):\n",
    "    return 학생['성적']['국어']\n",
    "\n",
    "pprint(sorted(학생성적, key=sort_fn, reverse=True))"
   ]
  },
  {
   "cell_type": "code",
   "execution_count": 14,
   "metadata": {},
   "outputs": [
    {
     "name": "stdout",
     "output_type": "stream",
     "text": [
      "[{'성적': {'국어': 100, '수학': 90, '영어': 80}, '이름': '철수'},\n",
      " {'성적': {'국어': 80, '수학': 95, '영어': 85}, '이름': '영희'},\n",
      " {'성적': {'국어': 70, '수학': 93, '영어': 82}, '이름': '스티브'},\n",
      " {'성적': {'국어': 96, '수학': 100, '영어': 32}, '이름': '존'},\n",
      " {'성적': {'국어': 80, '수학': 50, '영어': 92}, '이름': '스크루지'}]\n"
     ]
    }
   ],
   "source": [
    "# 2) 총점에 대한 내림차순 정렬\n",
    "\n",
    "def sort_fn(학생):\n",
    "    return sum(학생['성적'].values())  # dict 함수 : .items(), .keys(), .values()\n",
    "    # return 학생['성적']['국어'] + 학생['성적']['영어'] + 학생['성적']['수학']\n",
    "\n",
    "pprint(sorted(학생성적, key=sort_fn, reverse=True))"
   ]
  },
  {
   "cell_type": "code",
   "execution_count": 13,
   "metadata": {},
   "outputs": [
    {
     "data": {
      "text/plain": [
       "270"
      ]
     },
     "execution_count": 13,
     "metadata": {},
     "output_type": "execute_result"
    }
   ],
   "source": [
    "sum({'국어': 100, '수학': 90, '영어': 80}.values())"
   ]
  },
  {
   "cell_type": "code",
   "execution_count": 30,
   "metadata": {},
   "outputs": [
    {
     "name": "stdout",
     "output_type": "stream",
     "text": [
      "1 철수 270\n",
      "2 영희 260\n",
      "3 스티브 245\n"
     ]
    }
   ],
   "source": [
    "# 3) 총점에 대한 TOP3 이름/총점 출력 : 슬라이싱\n",
    "\n",
    "def sort_fn(학생):\n",
    "    return sum(학생['성적'].values())\n",
    "\n",
    "학생성적_랭크 = sorted(학생성적, key=sort_fn, reverse=True)[:3]\n",
    "\n",
    "# rank = 1\n",
    "# for 학생 in 학생성적_랭크:\n",
    "#     print(rank, 학생['이름'], sort_fn(학생))\n",
    "#     rank += 1\n",
    "\n",
    "for rank, 학생 in enumerate(학생성적_랭크, 1):\n",
    "    print(rank, 학생['이름'], sort_fn(학생))\n"
   ]
  },
  {
   "cell_type": "code",
   "execution_count": 28,
   "metadata": {},
   "outputs": [
    {
     "name": "stdout",
     "output_type": "stream",
     "text": [
      "1001 tom\n",
      "1002 steve\n",
      "1003 john\n"
     ]
    }
   ],
   "source": [
    "names = ['tom', 'steve', 'john']\n",
    "\n",
    "for i, name in enumerate(names, 1001):\n",
    "    print(i, name)"
   ]
  },
  {
   "cell_type": "markdown",
   "metadata": {},
   "source": [
    "## 퀴즈\n",
    "\n",
    "로또 자동번호 추출하는 함수를 구현\n",
    "\n",
    "+ 1이상 45이하의 수 중에 랜덤으로 7개를 뽑아냅니다. (정렬 X)\n",
    "+ 처음 6 개 : 당첨번호\n",
    "+ 마지막 1개 : 보너스 번호\n",
    "\n",
    "주의사항\n",
    "\n",
    "+ random 모듈에서는 `random.choice`만 사용\n",
    "+ list와 조건문을 활용해서 구현"
   ]
  },
  {
   "cell_type": "code",
   "execution_count": 42,
   "metadata": {},
   "outputs": [
    {
     "data": {
      "text/plain": [
       "[5, 7, 15, 10, 8, 40, 35]"
      ]
     },
     "execution_count": 42,
     "metadata": {},
     "output_type": "execute_result"
    }
   ],
   "source": [
    "# 함수 리턴 예\n",
    "\n",
    "[5, 7, 15, 10, 8, 40, 35]"
   ]
  },
  {
   "cell_type": "code",
   "execution_count": 51,
   "metadata": {
    "collapsed": true
   },
   "outputs": [],
   "source": [
    "import random\n",
    "\n",
    "def get_lotto_numbers():\n",
    "    numbers = []\n",
    "\n",
    "    while True:\n",
    "        number = random.choice(range(1, 46))\n",
    "        if number not in numbers:\n",
    "            numbers.append(number)\n",
    "            if len(numbers) == 7:\n",
    "                break\n",
    "\n",
    "    return numbers"
   ]
  },
  {
   "cell_type": "code",
   "execution_count": 65,
   "metadata": {},
   "outputs": [
    {
     "name": "stdout",
     "output_type": "stream",
     "text": [
      "당첨번호 :  6, 9, 16, 20, 40, 41\n",
      "보너스 :  45\n"
     ]
    }
   ],
   "source": [
    "numbers = get_lotto_numbers()\n",
    "\n",
    "당첨번호 = sorted(numbers[:6])\n",
    "당첨번호_문자열 = ', '.join(map(str, 당첨번호))\n",
    "\n",
    "print('당첨번호 : ', 당첨번호_문자열)\n",
    "print('보너스 : ', numbers[-1])"
   ]
  },
  {
   "cell_type": "code",
   "execution_count": 61,
   "metadata": {},
   "outputs": [
    {
     "data": {
      "text/plain": [
       "'1'"
      ]
     },
     "execution_count": 61,
     "metadata": {},
     "output_type": "execute_result"
    }
   ],
   "source": [
    "str(1)"
   ]
  },
  {
   "cell_type": "code",
   "execution_count": 63,
   "metadata": {},
   "outputs": [
    {
     "data": {
      "text/plain": [
       "'1, 28, 29, 31, 36, 44'"
      ]
     },
     "execution_count": 63,
     "metadata": {},
     "output_type": "execute_result"
    }
   ],
   "source": [
    "', '.join(list(map(str, 당첨번호)))"
   ]
  },
  {
   "cell_type": "markdown",
   "metadata": {},
   "source": [
    "## 퀴즈 : "
   ]
  },
  {
   "cell_type": "code",
   "execution_count": 41,
   "metadata": {},
   "outputs": [
    {
     "name": "stdout",
     "output_type": "stream",
     "text": [
      "*\n",
      "**\n",
      "***\n"
     ]
    }
   ],
   "source": [
    "def print_triangle(size):\n",
    "    for i in range(1, size+1):\n",
    "        print('*' * i)\n",
    "\n",
    "print_triangle(3)"
   ]
  },
  {
   "cell_type": "code",
   "execution_count": 37,
   "metadata": {},
   "outputs": [
    {
     "data": {
      "text/plain": [
       "'***'"
      ]
     },
     "execution_count": 37,
     "metadata": {},
     "output_type": "execute_result"
    }
   ],
   "source": [
    "'*' + '*' + '*'"
   ]
  },
  {
   "cell_type": "code",
   "execution_count": 38,
   "metadata": {},
   "outputs": [
    {
     "data": {
      "text/plain": [
       "'***'"
      ]
     },
     "execution_count": 38,
     "metadata": {},
     "output_type": "execute_result"
    }
   ],
   "source": [
    "'*' * 3"
   ]
  },
  {
   "cell_type": "markdown",
   "metadata": {},
   "source": [
    "### 퀴즈 : 3을 입력했을 때, 아래와 같은 출력이 되도록 구현\n",
    "\n",
    "```\n",
    "  *\n",
    " **\n",
    "***\n",
    "```"
   ]
  },
  {
   "cell_type": "code",
   "execution_count": 70,
   "metadata": {},
   "outputs": [
    {
     "name": "stdout",
     "output_type": "stream",
     "text": [
      "    *\n",
      "   **\n",
      "  ***\n",
      " ****\n",
      "*****\n"
     ]
    }
   ],
   "source": [
    "def print_triangle_2(size):\n",
    "    for i in range(1, size+1):\n",
    "        print(' ' * (size-i), end='')\n",
    "        print('*' * i)\n",
    "\n",
    "print_triangle_2(5)"
   ]
  },
  {
   "cell_type": "markdown",
   "metadata": {
    "collapsed": true
   },
   "source": [
    "## 클래스"
   ]
  },
  {
   "cell_type": "code",
   "execution_count": 79,
   "metadata": {
    "collapsed": true
   },
   "outputs": [],
   "source": [
    "철수 = {'이름': '철수', '성적': {'국어': 100, '수학': 90, '영어': 80}}\n"
   ]
  },
  {
   "cell_type": "code",
   "execution_count": 80,
   "metadata": {},
   "outputs": [
    {
     "data": {
      "text/plain": [
       "'철수'"
      ]
     },
     "execution_count": 80,
     "metadata": {},
     "output_type": "execute_result"
    }
   ],
   "source": [
    "철수['이름']"
   ]
  },
  {
   "cell_type": "code",
   "execution_count": 81,
   "metadata": {},
   "outputs": [
    {
     "data": {
      "text/plain": [
       "{'국어': 100, '수학': 90, '영어': 80}"
      ]
     },
     "execution_count": 81,
     "metadata": {},
     "output_type": "execute_result"
    }
   ],
   "source": [
    "철수['성적']"
   ]
  },
  {
   "cell_type": "code",
   "execution_count": 83,
   "metadata": {
    "collapsed": true
   },
   "outputs": [],
   "source": [
    "def 총점계산(학생):\n",
    "    return 학생['성적']['국어'] + 학생['성적']['영어'] + 학생['성적']['수학']"
   ]
  },
  {
   "cell_type": "code",
   "execution_count": 84,
   "metadata": {},
   "outputs": [
    {
     "data": {
      "text/plain": [
       "270"
      ]
     },
     "execution_count": 84,
     "metadata": {},
     "output_type": "execute_result"
    }
   ],
   "source": [
    "총점계산(철수)"
   ]
  },
  {
   "cell_type": "code",
   "execution_count": null,
   "metadata": {
    "collapsed": true
   },
   "outputs": [],
   "source": []
  },
  {
   "cell_type": "code",
   "execution_count": 148,
   "metadata": {},
   "outputs": [],
   "source": [
    "class Person:\n",
    "    def __init__(self, 이름, 성적):\n",
    "        self.이름 = 이름\n",
    "        self.성적 = 성적\n",
    "    \n",
    "    def 총점계산(self):\n",
    "        return self.성적['국어'] + self.성적['영어'] + self.성적['수학']\n",
    "    \n",
    "    def 평균계산(self):\n",
    "        return self.총점계산() / len(self.성적)\n",
    "    \n",
    "    def __str__(self):\n",
    "        return '{}의 성적 (총점 : {})'.format(self.이름, self.총점계산())\n",
    "    \n",
    "    def __repr__(self):\n",
    "        return str(self)"
   ]
  },
  {
   "cell_type": "code",
   "execution_count": 149,
   "metadata": {
    "collapsed": true
   },
   "outputs": [],
   "source": [
    "철수 = Person('철수', {'국어': 100, '수학': 90, '영어': 80})"
   ]
  },
  {
   "cell_type": "code",
   "execution_count": 150,
   "metadata": {},
   "outputs": [
    {
     "data": {
      "text/plain": [
       "'철수'"
      ]
     },
     "execution_count": 150,
     "metadata": {},
     "output_type": "execute_result"
    }
   ],
   "source": [
    "철수.이름"
   ]
  },
  {
   "cell_type": "code",
   "execution_count": 151,
   "metadata": {},
   "outputs": [
    {
     "data": {
      "text/plain": [
       "{'국어': 100, '수학': 90, '영어': 80}"
      ]
     },
     "execution_count": 151,
     "metadata": {},
     "output_type": "execute_result"
    }
   ],
   "source": [
    "철수.성적"
   ]
  },
  {
   "cell_type": "code",
   "execution_count": 152,
   "metadata": {},
   "outputs": [
    {
     "data": {
      "text/plain": [
       "270"
      ]
     },
     "execution_count": 152,
     "metadata": {},
     "output_type": "execute_result"
    }
   ],
   "source": [
    "철수.총점계산()"
   ]
  },
  {
   "cell_type": "code",
   "execution_count": 153,
   "metadata": {},
   "outputs": [
    {
     "data": {
      "text/plain": [
       "90.0"
      ]
     },
     "execution_count": 153,
     "metadata": {},
     "output_type": "execute_result"
    }
   ],
   "source": [
    "철수.평균계산()"
   ]
  },
  {
   "cell_type": "code",
   "execution_count": 154,
   "metadata": {},
   "outputs": [],
   "source": [
    "철수 = Person('철수', {'국어': 100, '수학': 90, '영어': 80})\n",
    "영희 = Person('영희', {'국어': 80, '수학': 95, '영어': 85})\n",
    "스티브 = Person('스티브', {'국어': 70, '수학': 93, '영어': 82})\n",
    "존 = Person('존', {'국어': 96, '수학': 100, '영어': 32})\n",
    "스크루지 = Person('스크루지', {'국어': 80, '수학': 50, '영어': 92})"
   ]
  },
  {
   "cell_type": "code",
   "execution_count": 155,
   "metadata": {},
   "outputs": [
    {
     "data": {
      "text/plain": [
       "(86.66666666666667, 81.66666666666667)"
      ]
     },
     "execution_count": 155,
     "metadata": {},
     "output_type": "execute_result"
    }
   ],
   "source": [
    "영희.평균계산(), 스티브.평균계산()"
   ]
  },
  {
   "cell_type": "code",
   "execution_count": 156,
   "metadata": {},
   "outputs": [
    {
     "data": {
      "text/plain": [
       "81.66666666666667"
      ]
     },
     "execution_count": 156,
     "metadata": {},
     "output_type": "execute_result"
    }
   ],
   "source": [
    "평균합 = 철수.평균계산() + 영희.평균계산() + 스티브.평균계산() + 존.평균계산() + 스크루지.평균계산()\n",
    "평균합 / 5  # 전체 학생의 평균"
   ]
  },
  {
   "cell_type": "markdown",
   "metadata": {},
   "source": [
    "## Person 타입의 변수 리스트 에서의 정렬"
   ]
  },
  {
   "cell_type": "code",
   "execution_count": 157,
   "metadata": {
    "collapsed": true
   },
   "outputs": [],
   "source": [
    "학생목록 = [\n",
    "    Person('철수', {'국어': 100, '수학': 90, '영어': 80}),\n",
    "    Person('영희', {'국어': 80, '수학': 95, '영어': 85}),\n",
    "    Person('스티브', {'국어': 70, '수학': 93, '영어': 82}),\n",
    "    Person('존', {'국어': 96, '수학': 100, '영어': 32}),\n",
    "    Person('스크루지', {'국어': 80, '수학': 50, '영어': 92}),\n",
    "]"
   ]
  },
  {
   "cell_type": "code",
   "execution_count": 158,
   "metadata": {},
   "outputs": [
    {
     "data": {
      "text/plain": [
       "[철수의 성적 (총점 : 270),\n",
       " 영희의 성적 (총점 : 260),\n",
       " 스티브의 성적 (총점 : 245),\n",
       " 존의 성적 (총점 : 228),\n",
       " 스크루지의 성적 (총점 : 222)]"
      ]
     },
     "execution_count": 158,
     "metadata": {},
     "output_type": "execute_result"
    }
   ],
   "source": [
    "def sort_fn(학생):\n",
    "    return 학생.총점계산()\n",
    "\n",
    "sorted(학생목록, key=sort_fn, reverse=True)"
   ]
  },
  {
   "cell_type": "code",
   "execution_count": null,
   "metadata": {
    "collapsed": true
   },
   "outputs": [],
   "source": []
  },
  {
   "cell_type": "code",
   "execution_count": null,
   "metadata": {
    "collapsed": true
   },
   "outputs": [],
   "source": []
  }
 ],
 "metadata": {
  "kernelspec": {
   "display_name": "Python 3",
   "language": "python",
   "name": "python3"
  },
  "language_info": {
   "codemirror_mode": {
    "name": "ipython",
    "version": 3
   },
   "file_extension": ".py",
   "mimetype": "text/x-python",
   "name": "python",
   "nbconvert_exporter": "python",
   "pygments_lexer": "ipython3",
   "version": "3.6.1"
  }
 },
 "nbformat": 4,
 "nbformat_minor": 2
}
